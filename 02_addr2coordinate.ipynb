{
 "cells": [
  {
   "cell_type": "code",
   "execution_count": null,
   "metadata": {},
   "outputs": [],
   "source": [
    "import json\n",
    "import requests\n",
    "import pandas as pd\n",
    "import mycnf\n",
    "\n",
    "from geopy.geocoders import Nominatim\n",
    "from tqdm import tqdm\n"
   ]
  },
  {
   "cell_type": "code",
   "execution_count": null,
   "metadata": {},
   "outputs": [],
   "source": [
    "df_raw = pd.read_csv(\"./data/main_data/main_df.csv\")"
   ]
  },
  {
   "cell_type": "code",
   "execution_count": null,
   "metadata": {},
   "outputs": [],
   "source": [
    "def get_coordinate_from_address(address):\n",
    "    try:\n",
    "        url = \"https://dapi.kakao.com/v2/local/search/address.json?query=\" + address\n",
    "        headers = {\"Authorization\": mycnf.authorization()}\n",
    "        api_json = json.loads(str(requests.get(url, headers=headers).text))\n",
    "        address = api_json[\"documents\"][0][\"address\"]\n",
    "        crd = {\"lng\": float(address[\"x\"]), \"lat\": float(address[\"y\"])}\n",
    "        return crd\n",
    "    except:\n",
    "        crd = {\"lng\": 0, \"lat\":0}\n",
    "        return crd"
   ]
  },
  {
   "cell_type": "code",
   "execution_count": null,
   "metadata": {},
   "outputs": [],
   "source": [
    "addrs = df_raw['주소'].unique()\n",
    "address2coordinate_dict = dict()\n",
    "\n",
    "for addr in tqdm(addrs):\n",
    "    crd = get_coordinate_from_address(addr)\n",
    "    address2coordinate_dict[addr] = crd"
   ]
  },
  {
   "cell_type": "code",
   "execution_count": null,
   "metadata": {},
   "outputs": [],
   "source": [
    "with open(\"./data/assets/address2coordinate.json\", 'w') as f:\n",
    "    json.dump(address2coordinate_dict, f, indent=4, ensure_ascii=False)"
   ]
  }
 ],
 "metadata": {
  "kernelspec": {
   "display_name": "project_house_price",
   "language": "python",
   "name": "python3"
  },
  "language_info": {
   "codemirror_mode": {
    "name": "ipython",
    "version": 3
   },
   "file_extension": ".py",
   "mimetype": "text/x-python",
   "name": "python",
   "nbconvert_exporter": "python",
   "pygments_lexer": "ipython3",
   "version": "3.10.11"
  },
  "orig_nbformat": 4
 },
 "nbformat": 4,
 "nbformat_minor": 2
}
