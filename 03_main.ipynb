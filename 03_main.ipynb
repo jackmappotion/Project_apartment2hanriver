{
 "cells": [
  {
   "cell_type": "code",
   "execution_count": null,
   "metadata": {},
   "outputs": [],
   "source": [
    "import json\n",
    "import pandas as pd"
   ]
  },
  {
   "cell_type": "code",
   "execution_count": null,
   "metadata": {},
   "outputs": [],
   "source": [
    "with open(\"./data/assets/address2hanriver.json\") as f:\n",
    "    address2hanriver_dict = json.load(f)\n",
    "with open(\"./data/assets/address2subway.json\") as f:\n",
    "    address2subway_dict = json.load(f)"
   ]
  },
  {
   "cell_type": "code",
   "execution_count": null,
   "metadata": {},
   "outputs": [],
   "source": [
    "main_raw_df = pd.read_csv(\"./data/main_data/main_df.csv\")\n",
    "main_df = main_raw_df.copy()"
   ]
  },
  {
   "cell_type": "code",
   "execution_count": null,
   "metadata": {},
   "outputs": [],
   "source": [
    "main_df['면적당가격'] =  main_df['거래금액(만원)'] / main_df[\"전용면적(㎡)\"]\n",
    "main_df['한강_거리'] = main_df['주소'].map(address2hanriver_dict)\n",
    "main_df['지하철역_거리'] = main_df['주소'].map(address2subway_dict)\n",
    "main_df.dropna(inplace=True)"
   ]
  },
  {
   "cell_type": "code",
   "execution_count": null,
   "metadata": {},
   "outputs": [],
   "source": [
    "import numpy as np\n",
    "import statsmodels.api as sm"
   ]
  },
  {
   "cell_type": "code",
   "execution_count": null,
   "metadata": {},
   "outputs": [],
   "source": [
    "# 전체 데이터에 대한 진행\n",
    "x = main_df.loc[:,['한강_거리','지하철역_거리']]\n",
    "y = main_df['면적당가격']\n",
    "\n",
    "# 상수항을 추가합니다.\n",
    "X = sm.add_constant(x)\n",
    "\n",
    "# 선형 회귀 모델을 생성하고 학습시킵니다.\n",
    "model = sm.OLS(y, X)\n",
    "results = model.fit()\n",
    "\n",
    "# 회귀 결과를 출력합니다.\n",
    "print(results.summary())"
   ]
  },
  {
   "cell_type": "code",
   "execution_count": null,
   "metadata": {},
   "outputs": [],
   "source": [
    "addr_1_list = sorted(main_df['군'].unique())"
   ]
  },
  {
   "cell_type": "code",
   "execution_count": null,
   "metadata": {},
   "outputs": [],
   "source": [
    "addr_1_r_squared_results = dict()\n",
    "for addr_1 in addr_1_list:\n",
    "    _main_df = main_df[main_df['군']==addr_1].copy()\n",
    "    x = _main_df.loc[:,['한강_거리','지하철역_거리']]\n",
    "    y = _main_df['면적당가격']\n",
    "\n",
    "    # 상수항을 추가합니다.\n",
    "    X = sm.add_constant(x)\n",
    "\n",
    "    # 선형 회귀 모델을 생성하고 학습시킵니다.\n",
    "    model = sm.OLS(y, X)\n",
    "    results = model.fit()\n",
    "\n",
    "    # 회귀 결과를 출력합니다.\n",
    "    print(addr_1)\n",
    "    print(results.rsquared)\n",
    "    print(\"=\"*50)\n",
    "    addr_1_r_squared_results[addr_1]=results.rsquared"
   ]
  },
  {
   "cell_type": "code",
   "execution_count": null,
   "metadata": {},
   "outputs": [],
   "source": [
    "sorted(addr_1_r_squared_results.items(), key=lambda x : x[-1],reverse=True)"
   ]
  },
  {
   "cell_type": "code",
   "execution_count": null,
   "metadata": {},
   "outputs": [],
   "source": [
    "# 전체 데이터에 대한 진행\n",
    "x = main_df.loc[:,['한강_거리','지하철역_거리','건축년도']]\n",
    "y = main_df['면적당가격']\n",
    "\n",
    "# 상수항을 추가합니다.\n",
    "X = sm.add_constant(x)\n",
    "\n",
    "# 선형 회귀 모델을 생성하고 학습시킵니다.\n",
    "model = sm.OLS(y, X)\n",
    "results = model.fit()\n",
    "\n",
    "# 회귀 결과를 출력합니다.\n",
    "print(results.summary())"
   ]
  },
  {
   "cell_type": "code",
   "execution_count": null,
   "metadata": {},
   "outputs": [],
   "source": [
    "import statsmodels.api as sm\n",
    "from statsmodels.formula.api import ols"
   ]
  },
  {
   "cell_type": "code",
   "execution_count": null,
   "metadata": {},
   "outputs": [],
   "source": [
    "from statsmodels.stats.anova import anova_lm"
   ]
  },
  {
   "cell_type": "code",
   "execution_count": null,
   "metadata": {},
   "outputs": [],
   "source": [
    "import statsmodels.api as sm\n",
    "from statsmodels.formula.api import ols\n",
    "\n",
    "# 데이터와 모델을 정의합니다.\n",
    "model = ols('y ~ X', data=main_df).fit()\n"
   ]
  },
  {
   "cell_type": "code",
   "execution_count": null,
   "metadata": {},
   "outputs": [],
   "source": [
    "from statsmodels.stats.anova import anova_lm\n",
    "\n",
    "# ANOVA 분석 실행\n",
    "anova_table = anova_lm(model)\n",
    "\n",
    "# 결과 출력\n",
    "print(anova_table)"
   ]
  },
  {
   "cell_type": "code",
   "execution_count": null,
   "metadata": {},
   "outputs": [],
   "source": []
  }
 ],
 "metadata": {
  "kernelspec": {
   "display_name": "project_house_price",
   "language": "python",
   "name": "python3"
  },
  "language_info": {
   "codemirror_mode": {
    "name": "ipython",
    "version": 3
   },
   "file_extension": ".py",
   "mimetype": "text/x-python",
   "name": "python",
   "nbconvert_exporter": "python",
   "pygments_lexer": "ipython3",
   "version": "3.10.11"
  },
  "orig_nbformat": 4
 },
 "nbformat": 4,
 "nbformat_minor": 2
}
