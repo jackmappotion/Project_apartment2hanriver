{
 "cells": [
  {
   "cell_type": "code",
   "execution_count": null,
   "metadata": {},
   "outputs": [],
   "source": [
    "import json\n",
    "import datetime\n",
    "\n",
    "import numpy as np\n",
    "import pandas as pd\n",
    "\n",
    "import matplotlib.pyplot as plt\n",
    "import seaborn as sns\n",
    "\n",
    "plt.rc('font',family='AppleGothic')"
   ]
  },
  {
   "cell_type": "code",
   "execution_count": null,
   "metadata": {},
   "outputs": [],
   "source": [
    "df_raw = pd.read_csv(\"./data/main_data/main_df.csv\")\n",
    "df = df_raw.copy()"
   ]
  },
  {
   "cell_type": "code",
   "execution_count": null,
   "metadata": {},
   "outputs": [],
   "source": [
    "# preprocessing\n",
    "df['거래금액(억)'] = df['거래금액(만원)'].apply(lambda x : round(x/10000,2))\n",
    "df['계약년월일'] = df['계약년월일'].apply(lambda x : datetime.datetime.strptime(x,\"%Y-%m-%d\").date())"
   ]
  },
  {
   "cell_type": "code",
   "execution_count": null,
   "metadata": {},
   "outputs": [],
   "source": [
    "# 총 데이터 갯수\n",
    "len(df)"
   ]
  },
  {
   "cell_type": "code",
   "execution_count": null,
   "metadata": {},
   "outputs": [],
   "source": [
    "# 군별 평균 가격\n",
    "colors = sns.color_palette('hls',len(df['군'].unique()))\n",
    "plt.figure(figsize=(14,5))\n",
    "df.groupby('군')['거래금액(억)'].mean().sort_values(ascending=False).plot(kind='bar',color=colors)\n",
    "plt.xticks(rotation=45)\n",
    "plt.tight_layout()\n",
    "plt.show()"
   ]
  },
  {
   "cell_type": "code",
   "execution_count": null,
   "metadata": {},
   "outputs": [],
   "source": [
    "# 군별 거래 횟수\n",
    "colors = sns.color_palette(\"hls\", len(df[\"군\"].unique()))\n",
    "plt.figure(figsize=(14,5))\n",
    "df.groupby(\"군\")[\"거래금액(억)\"].count().sort_values(ascending=False).plot(\n",
    "    kind=\"bar\", color=colors\n",
    ")\n",
    "plt.xticks(rotation=45)\n",
    "plt.tight_layout()\n",
    "plt.show()"
   ]
  },
  {
   "cell_type": "code",
   "execution_count": null,
   "metadata": {},
   "outputs": [],
   "source": [
    "# 구 top 30\n",
    "colors = sns.color_palette('hls',30)\n",
    "plt.figure(figsize=(14,5))\n",
    "df.groupby('구')['거래금액(억)'].mean().nlargest(30).plot(kind='bar',color=colors)\n",
    "plt.xticks(rotation=45)\n",
    "plt.tight_layout()\n",
    "plt.show()"
   ]
  },
  {
   "cell_type": "code",
   "execution_count": null,
   "metadata": {},
   "outputs": [],
   "source": [
    "contract_over_500 = df[\"구\"].value_counts()[df[\"구\"].value_counts() > 500].index\n",
    "# 구 top 30 with 계약건수 500 이상\n",
    "colors = sns.color_palette(\"hls\", 30)\n",
    "plt.figure(figsize=(14,5))\n",
    "df[df[\"구\"].isin(contract_over_500)].groupby(\"구\")[\"거래금액(억)\"].mean().nlargest(30).plot(\n",
    "    kind=\"bar\", color=colors\n",
    ")\n",
    "plt.xticks(rotation=45)\n",
    "plt.tight_layout()\n",
    "plt.show()"
   ]
  },
  {
   "cell_type": "code",
   "execution_count": null,
   "metadata": {},
   "outputs": [],
   "source": [
    "# 구 bottom 30 with 계약건수 500 이상\n",
    "\n",
    "colors = sns.color_palette(\"hls\", 30)\n",
    "plt.figure(figsize=(14,5))\n",
    "df[df[\"구\"].isin(contract_over_500)].groupby(\"구\")[\"거래금액(억)\"].mean().nsmallest(30).plot(\n",
    "    kind=\"bar\", color=colors\n",
    ")\n",
    "plt.xticks(rotation=45)\n",
    "plt.tight_layout()\n",
    "plt.show()"
   ]
  }
 ],
 "metadata": {
  "kernelspec": {
   "display_name": "project_house_price",
   "language": "python",
   "name": "python3"
  },
  "language_info": {
   "codemirror_mode": {
    "name": "ipython",
    "version": 3
   },
   "file_extension": ".py",
   "mimetype": "text/x-python",
   "name": "python",
   "nbconvert_exporter": "python",
   "pygments_lexer": "ipython3",
   "version": "3.10.11"
  },
  "orig_nbformat": 4
 },
 "nbformat": 4,
 "nbformat_minor": 2
}
