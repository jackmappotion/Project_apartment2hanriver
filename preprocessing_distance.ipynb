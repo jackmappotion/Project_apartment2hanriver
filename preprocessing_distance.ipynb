{
 "cells": [
  {
   "cell_type": "code",
   "execution_count": 1,
   "metadata": {},
   "outputs": [],
   "source": [
    "import json\n",
    "import datetime\n",
    "\n",
    "import numpy as np\n",
    "import pandas as pd\n",
    "\n",
    "import matplotlib.pyplot as plt\n",
    "import seaborn as sns\n",
    "from geopy.distance import distance\n",
    "from tqdm import tqdm\n",
    "\n",
    "plt.rc('font',family='AppleGothic')"
   ]
  },
  {
   "cell_type": "code",
   "execution_count": 2,
   "metadata": {},
   "outputs": [],
   "source": [
    "df_raw = pd.read_csv(\"./data/main_data/main_df.csv\")\n",
    "df = df_raw.copy()"
   ]
  },
  {
   "cell_type": "code",
   "execution_count": 3,
   "metadata": {},
   "outputs": [],
   "source": [
    "with open(\"./data/assets/address2coordinate.json\", 'r') as f:\n",
    "    address_coordinate_dict=json.load(f)"
   ]
  },
  {
   "cell_type": "code",
   "execution_count": 4,
   "metadata": {},
   "outputs": [],
   "source": [
    "df_addr = df.loc[:,['주소']].drop_duplicates()"
   ]
  },
  {
   "cell_type": "code",
   "execution_count": 5,
   "metadata": {},
   "outputs": [],
   "source": [
    "df_apt_coordinate = pd.concat([df_addr,df_addr['주소'].map(address_coordinate_dict).apply(pd.Series)],axis=1)\n",
    "df_apt_coordinate.rename(columns={'주소':'name'},inplace=True)\n",
    "df_apt_coordinate = df_apt_coordinate.loc[:,['name','lat','lng']]\n",
    "\n",
    "df_apt_coordinate = df_apt_coordinate[\n",
    "    (df_apt_coordinate[\"lat\"] != 0) & (df_apt_coordinate[\"lng\"] != 0)\n",
    "]"
   ]
  },
  {
   "cell_type": "code",
   "execution_count": 6,
   "metadata": {},
   "outputs": [],
   "source": [
    "df_hanriver_park_coordinate = pd.read_csv(\"./data/sub_data/hanriver.csv\")\n",
    "df_hanriver_park_coordinate.rename(columns={'공원명':'name','위도':'lat','경도':'lng'},inplace=True)\n",
    "\n",
    "df_hanriver_park_coordinate = df_hanriver_park_coordinate.loc[:,['name','lat','lng']]"
   ]
  },
  {
   "cell_type": "code",
   "execution_count": 7,
   "metadata": {},
   "outputs": [],
   "source": [
    "df_subway_coordinate = pd.read_csv(\"./data/sub_data/station_coordinate.csv\")\n",
    "df_subway_coordinate = df_subway_coordinate.loc[:,['name','lat','lng']]\n",
    "df_subway_coordinate.dropna(inplace=True)"
   ]
  },
  {
   "cell_type": "code",
   "execution_count": 8,
   "metadata": {},
   "outputs": [
    {
     "name": "stderr",
     "output_type": "stream",
     "text": [
      "100%|██████████| 8925/8925 [08:18<00:00, 17.92it/s]\n"
     ]
    }
   ],
   "source": [
    "address2hanriver = dict()\n",
    "address2subway = dict()\n",
    "for name, lat, lng in tqdm(df_apt_coordinate.values):\n",
    "    # hanriver distance\n",
    "    distance2hanriver = df_hanriver_park_coordinate.apply(lambda x : distance((x.lat,x.lng),(lat,lng)).km,axis=1).min()\n",
    "    address2hanriver[name] = distance2hanriver\n",
    "    \n",
    "    # subway distance\n",
    "    distance2subway = df_subway_coordinate.apply(lambda x : distance((x.lat,x.lng),(lat,lng)).km,axis=1).min()\n",
    "    address2subway[name] = distance2subway"
   ]
  },
  {
   "cell_type": "code",
   "execution_count": 10,
   "metadata": {},
   "outputs": [],
   "source": [
    "with open(\"./data/assets/address2hanriver.json\",'w') as f:\n",
    "    json.dump(address2hanriver,f,indent=4,ensure_ascii=False)\n",
    "with open(\"./data/assets/address2subway.json\",'w') as f:\n",
    "    json.dump(address2subway,f,indent=4,ensure_ascii=False)"
   ]
  }
 ],
 "metadata": {
  "kernelspec": {
   "display_name": "project_house_price",
   "language": "python",
   "name": "python3"
  },
  "language_info": {
   "codemirror_mode": {
    "name": "ipython",
    "version": 3
   },
   "file_extension": ".py",
   "mimetype": "text/x-python",
   "name": "python",
   "nbconvert_exporter": "python",
   "pygments_lexer": "ipython3",
   "version": "3.10.11"
  },
  "orig_nbformat": 4
 },
 "nbformat": 4,
 "nbformat_minor": 2
}
