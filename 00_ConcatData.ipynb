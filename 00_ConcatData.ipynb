{
 "cells": [
  {
   "cell_type": "code",
   "execution_count": null,
   "metadata": {},
   "outputs": [],
   "source": [
    "import warnings\n",
    "from glob import glob\n",
    "import datetime\n",
    "\n",
    "import matplotlib.pyplot as plt\n",
    "plt.rc('font', family='AppleGothic')\n",
    "import pandas as pd\n",
    "import seaborn as sns\n",
    "\n",
    "warnings.filterwarnings(action='ignore')"
   ]
  },
  {
   "cell_type": "code",
   "execution_count": null,
   "metadata": {},
   "outputs": [],
   "source": [
    "data_paths = glob(\"./data/raw_data/*.xlsx\")\n",
    "\n",
    "df_raw = pd.DataFrame()\n",
    "for data_path in data_paths:\n",
    "    df_raw = pd.concat([df_raw,pd.read_excel(data_path,header=16)])\n",
    "\n",
    "df_raw.reset_index(drop=True,inplace=True)"
   ]
  },
  {
   "cell_type": "code",
   "execution_count": null,
   "metadata": {},
   "outputs": [],
   "source": [
    "df = df_raw.copy()"
   ]
  },
  {
   "cell_type": "code",
   "execution_count": null,
   "metadata": {},
   "outputs": [],
   "source": [
    "df['시군구'].apply(lambda x : len(x.split(' '))).value_counts()"
   ]
  },
  {
   "cell_type": "code",
   "execution_count": null,
   "metadata": {},
   "outputs": [],
   "source": [
    "df.loc[:,[\"시\"]] = df[\"시군구\"].apply(lambda x: x.split(\" \")[0])\n",
    "df.loc[:,[\"군\"]] = df[\"시군구\"].apply(lambda x: x.split(\" \")[1])\n",
    "df.loc[:,[\"구\"]] = df[\"시군구\"].apply(lambda x: x.split(\" \")[2])\n",
    "\n",
    "df.loc[:,['주소']] = df['시군구'] + df['도로명'].apply(lambda x : \" \"+str(x))\n",
    "\n",
    "df['거래금액(만원)'] = df['거래금액(만원)'].apply(lambda x : x.strip().replace(',','')).astype(int)\n",
    "\n",
    "df['계약년월일'] = df['계약년월'].astype(str) + df['계약일'].apply(lambda x : str(x).zfill(2))\n",
    "df['계약년월일'] = df['계약년월일'].apply(lambda x : datetime.datetime.strptime(x,'%Y%m%d'))"
   ]
  },
  {
   "cell_type": "code",
   "execution_count": null,
   "metadata": {},
   "outputs": [],
   "source": [
    "df_main = df.loc[:,['주소','시','군','구','단지명','층','전용면적(㎡)','건축년도','거래금액(만원)','계약년월일']].copy()\n",
    "df_main.to_csv(\"./data/main_data/main_df.csv\",index=False)"
   ]
  },
  {
   "cell_type": "code",
   "execution_count": null,
   "metadata": {},
   "outputs": [],
   "source": []
  }
 ],
 "metadata": {
  "kernelspec": {
   "display_name": "kurrant",
   "language": "python",
   "name": "python3"
  },
  "language_info": {
   "codemirror_mode": {
    "name": "ipython",
    "version": 3
   },
   "file_extension": ".py",
   "mimetype": "text/x-python",
   "name": "python",
   "nbconvert_exporter": "python",
   "pygments_lexer": "ipython3",
   "version": "3.10.11"
  },
  "orig_nbformat": 4
 },
 "nbformat": 4,
 "nbformat_minor": 2
}
